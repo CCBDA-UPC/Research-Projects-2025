{
 "cells": [
  {
   "cell_type": "code",
   "execution_count": 37,
   "id": "7787ee43-269e-4077-9298-9faa1f34fd1f",
   "metadata": {},
   "outputs": [],
   "source": [
    "!pip install sagemaker -q"
   ]
  },
  {
   "cell_type": "code",
   "execution_count": 64,
   "id": "2c99f926-c09e-42fb-90b3-0dd88a974d33",
   "metadata": {},
   "outputs": [],
   "source": [
    "from sklearn.model_selection import train_test_split\n",
    "import sagemaker\n",
    "from sagemaker.s3 import S3Uploader\n",
    "from sagemaker import image_uris\n",
    "from sagemaker.estimator import Estimator\n",
    "from sagemaker.inputs import TrainingInput\n",
    "import numpy as np\n",
    "import boto3\n",
    "import pandas as pd"
   ]
  },
  {
   "cell_type": "code",
   "execution_count": 65,
   "id": "7e166cda-8f38-498e-ace7-537c9c4d9a18",
   "metadata": {},
   "outputs": [
    {
     "data": {
      "application/vnd.jupyter.widget-view+json": {
       "model_id": "528e768ab72a43b6aec3ab8bef6d265d",
       "version_major": 2,
       "version_minor": 0
      },
      "text/plain": [
       "Output()"
      ]
     },
     "metadata": {},
     "output_type": "display_data"
    },
    {
     "data": {
      "text/html": [
       "<pre style=\"white-space:pre;overflow-x:auto;line-height:normal;font-family:Menlo,'DejaVu Sans Mono',consolas,'Courier New',monospace\"></pre>\n"
      ],
      "text/plain": []
     },
     "metadata": {},
     "output_type": "display_data"
    },
    {
     "data": {
      "text/html": [
       "<pre style=\"white-space:pre;overflow-x:auto;line-height:normal;font-family:Menlo,'DejaVu Sans Mono',consolas,'Courier New',monospace\"><span style=\"color: #008000; text-decoration-color: #008000; font-weight: bold\">All data downloaded successfully!</span>\n",
       "</pre>\n"
      ],
      "text/plain": [
       "\u001b[1;32mAll data downloaded successfully!\u001b[0m\n"
      ]
     },
     "metadata": {},
     "output_type": "display_data"
    },
    {
     "data": {
      "text/html": [
       "<div>\n",
       "<style scoped>\n",
       "    .dataframe tbody tr th:only-of-type {\n",
       "        vertical-align: middle;\n",
       "    }\n",
       "\n",
       "    .dataframe tbody tr th {\n",
       "        vertical-align: top;\n",
       "    }\n",
       "\n",
       "    .dataframe thead th {\n",
       "        text-align: right;\n",
       "    }\n",
       "</style>\n",
       "<table border=\"1\" class=\"dataframe\">\n",
       "  <thead>\n",
       "    <tr style=\"text-align: right;\">\n",
       "      <th></th>\n",
       "      <th>Date</th>\n",
       "      <th>Rented Bike Count</th>\n",
       "      <th>Hour</th>\n",
       "      <th>Temperature(°C)</th>\n",
       "      <th>Humidity(%)</th>\n",
       "      <th>Wind speed (m/s)</th>\n",
       "      <th>Visibility (10m)</th>\n",
       "      <th>Dew point temperature(°C)</th>\n",
       "      <th>Solar Radiation (MJ/m2)</th>\n",
       "      <th>Rainfall(mm)</th>\n",
       "      <th>Snowfall (cm)</th>\n",
       "      <th>Seasons</th>\n",
       "      <th>Holiday</th>\n",
       "      <th>Functioning Day</th>\n",
       "    </tr>\n",
       "  </thead>\n",
       "  <tbody>\n",
       "    <tr>\n",
       "      <th>0</th>\n",
       "      <td>01/12/2017</td>\n",
       "      <td>254</td>\n",
       "      <td>0</td>\n",
       "      <td>-5.2</td>\n",
       "      <td>37</td>\n",
       "      <td>2.2</td>\n",
       "      <td>2000</td>\n",
       "      <td>-17.6</td>\n",
       "      <td>0.0</td>\n",
       "      <td>0.0</td>\n",
       "      <td>0.0</td>\n",
       "      <td>Winter</td>\n",
       "      <td>No Holiday</td>\n",
       "      <td>Yes</td>\n",
       "    </tr>\n",
       "    <tr>\n",
       "      <th>1</th>\n",
       "      <td>01/12/2017</td>\n",
       "      <td>204</td>\n",
       "      <td>1</td>\n",
       "      <td>-5.5</td>\n",
       "      <td>38</td>\n",
       "      <td>0.8</td>\n",
       "      <td>2000</td>\n",
       "      <td>-17.6</td>\n",
       "      <td>0.0</td>\n",
       "      <td>0.0</td>\n",
       "      <td>0.0</td>\n",
       "      <td>Winter</td>\n",
       "      <td>No Holiday</td>\n",
       "      <td>Yes</td>\n",
       "    </tr>\n",
       "    <tr>\n",
       "      <th>2</th>\n",
       "      <td>01/12/2017</td>\n",
       "      <td>173</td>\n",
       "      <td>2</td>\n",
       "      <td>-6.0</td>\n",
       "      <td>39</td>\n",
       "      <td>1.0</td>\n",
       "      <td>2000</td>\n",
       "      <td>-17.7</td>\n",
       "      <td>0.0</td>\n",
       "      <td>0.0</td>\n",
       "      <td>0.0</td>\n",
       "      <td>Winter</td>\n",
       "      <td>No Holiday</td>\n",
       "      <td>Yes</td>\n",
       "    </tr>\n",
       "    <tr>\n",
       "      <th>3</th>\n",
       "      <td>01/12/2017</td>\n",
       "      <td>107</td>\n",
       "      <td>3</td>\n",
       "      <td>-6.2</td>\n",
       "      <td>40</td>\n",
       "      <td>0.9</td>\n",
       "      <td>2000</td>\n",
       "      <td>-17.6</td>\n",
       "      <td>0.0</td>\n",
       "      <td>0.0</td>\n",
       "      <td>0.0</td>\n",
       "      <td>Winter</td>\n",
       "      <td>No Holiday</td>\n",
       "      <td>Yes</td>\n",
       "    </tr>\n",
       "    <tr>\n",
       "      <th>4</th>\n",
       "      <td>01/12/2017</td>\n",
       "      <td>78</td>\n",
       "      <td>4</td>\n",
       "      <td>-6.0</td>\n",
       "      <td>36</td>\n",
       "      <td>2.3</td>\n",
       "      <td>2000</td>\n",
       "      <td>-18.6</td>\n",
       "      <td>0.0</td>\n",
       "      <td>0.0</td>\n",
       "      <td>0.0</td>\n",
       "      <td>Winter</td>\n",
       "      <td>No Holiday</td>\n",
       "      <td>Yes</td>\n",
       "    </tr>\n",
       "  </tbody>\n",
       "</table>\n",
       "</div>"
      ],
      "text/plain": [
       "         Date  Rented Bike Count  Hour  Temperature(°C)  Humidity(%)  \\\n",
       "0  01/12/2017                254     0             -5.2           37   \n",
       "1  01/12/2017                204     1             -5.5           38   \n",
       "2  01/12/2017                173     2             -6.0           39   \n",
       "3  01/12/2017                107     3             -6.2           40   \n",
       "4  01/12/2017                 78     4             -6.0           36   \n",
       "\n",
       "   Wind speed (m/s)  Visibility (10m)  Dew point temperature(°C)  \\\n",
       "0               2.2              2000                      -17.6   \n",
       "1               0.8              2000                      -17.6   \n",
       "2               1.0              2000                      -17.7   \n",
       "3               0.9              2000                      -17.6   \n",
       "4               2.3              2000                      -18.6   \n",
       "\n",
       "   Solar Radiation (MJ/m2)  Rainfall(mm)  Snowfall (cm) Seasons     Holiday  \\\n",
       "0                      0.0           0.0            0.0  Winter  No Holiday   \n",
       "1                      0.0           0.0            0.0  Winter  No Holiday   \n",
       "2                      0.0           0.0            0.0  Winter  No Holiday   \n",
       "3                      0.0           0.0            0.0  Winter  No Holiday   \n",
       "4                      0.0           0.0            0.0  Winter  No Holiday   \n",
       "\n",
       "  Functioning Day  \n",
       "0             Yes  \n",
       "1             Yes  \n",
       "2             Yes  \n",
       "3             Yes  \n",
       "4             Yes  "
      ]
     },
     "execution_count": 65,
     "metadata": {},
     "output_type": "execute_result"
    }
   ],
   "source": [
    "from rich.console import Console\n",
    "from rich.status import Status\n",
    "\n",
    "console = Console()\n",
    "\n",
    "with Status(\"[bold cyan]Starting download...[/bold cyan]\") as status:\n",
    "    url = \"https://archive.ics.uci.edu/ml/machine-learning-databases/00560/SeoulBikeData.csv\"\n",
    "    df = pd.read_csv(url, encoding='unicode_escape')\n",
    "\n",
    "console.print(\"[bold green]All data downloaded successfully![/bold green]\")\n",
    "df.head()"
   ]
  },
  {
   "cell_type": "code",
   "execution_count": 66,
   "id": "de529cda-90ab-4827-a178-e23a4125fa83",
   "metadata": {},
   "outputs": [
    {
     "name": "stderr",
     "output_type": "stream",
     "text": [
      "/tmp/ipykernel_7025/4205674490.py:2: FutureWarning: The default value of regex will change from True to False in a future version. In addition, single character regular expressions will *not* be treated as literal strings when regex=True.\n",
      "  df.columns = df.columns.str.replace(' ', '_').str.replace('(', '').str.replace(')', '')\n",
      "/tmp/ipykernel_7025/4205674490.py:2: FutureWarning: The default value of regex will change from True to False in a future version. In addition, single character regular expressions will *not* be treated as literal strings when regex=True.\n",
      "  df.columns = df.columns.str.replace(' ', '_').str.replace('(', '').str.replace(')', '')\n"
     ]
    },
    {
     "data": {
      "text/html": [
       "<div>\n",
       "<style scoped>\n",
       "    .dataframe tbody tr th:only-of-type {\n",
       "        vertical-align: middle;\n",
       "    }\n",
       "\n",
       "    .dataframe tbody tr th {\n",
       "        vertical-align: top;\n",
       "    }\n",
       "\n",
       "    .dataframe thead th {\n",
       "        text-align: right;\n",
       "    }\n",
       "</style>\n",
       "<table border=\"1\" class=\"dataframe\">\n",
       "  <thead>\n",
       "    <tr style=\"text-align: right;\">\n",
       "      <th></th>\n",
       "      <th>Rented_Bike_Count</th>\n",
       "      <th>Hour</th>\n",
       "      <th>Temperature°C</th>\n",
       "      <th>Humidity%</th>\n",
       "      <th>Wind_speed_m/s</th>\n",
       "      <th>Visibility_10m</th>\n",
       "      <th>Dew_point_temperature°C</th>\n",
       "      <th>Solar_Radiation_MJ/m2</th>\n",
       "      <th>Rainfallmm</th>\n",
       "      <th>Snowfall_cm</th>\n",
       "    </tr>\n",
       "  </thead>\n",
       "  <tbody>\n",
       "    <tr>\n",
       "      <th>0</th>\n",
       "      <td>254</td>\n",
       "      <td>0</td>\n",
       "      <td>-5.2</td>\n",
       "      <td>37</td>\n",
       "      <td>2.2</td>\n",
       "      <td>2000</td>\n",
       "      <td>-17.6</td>\n",
       "      <td>0.0</td>\n",
       "      <td>0.0</td>\n",
       "      <td>0.0</td>\n",
       "    </tr>\n",
       "    <tr>\n",
       "      <th>1</th>\n",
       "      <td>204</td>\n",
       "      <td>1</td>\n",
       "      <td>-5.5</td>\n",
       "      <td>38</td>\n",
       "      <td>0.8</td>\n",
       "      <td>2000</td>\n",
       "      <td>-17.6</td>\n",
       "      <td>0.0</td>\n",
       "      <td>0.0</td>\n",
       "      <td>0.0</td>\n",
       "    </tr>\n",
       "    <tr>\n",
       "      <th>2</th>\n",
       "      <td>173</td>\n",
       "      <td>2</td>\n",
       "      <td>-6.0</td>\n",
       "      <td>39</td>\n",
       "      <td>1.0</td>\n",
       "      <td>2000</td>\n",
       "      <td>-17.7</td>\n",
       "      <td>0.0</td>\n",
       "      <td>0.0</td>\n",
       "      <td>0.0</td>\n",
       "    </tr>\n",
       "    <tr>\n",
       "      <th>3</th>\n",
       "      <td>107</td>\n",
       "      <td>3</td>\n",
       "      <td>-6.2</td>\n",
       "      <td>40</td>\n",
       "      <td>0.9</td>\n",
       "      <td>2000</td>\n",
       "      <td>-17.6</td>\n",
       "      <td>0.0</td>\n",
       "      <td>0.0</td>\n",
       "      <td>0.0</td>\n",
       "    </tr>\n",
       "    <tr>\n",
       "      <th>4</th>\n",
       "      <td>78</td>\n",
       "      <td>4</td>\n",
       "      <td>-6.0</td>\n",
       "      <td>36</td>\n",
       "      <td>2.3</td>\n",
       "      <td>2000</td>\n",
       "      <td>-18.6</td>\n",
       "      <td>0.0</td>\n",
       "      <td>0.0</td>\n",
       "      <td>0.0</td>\n",
       "    </tr>\n",
       "  </tbody>\n",
       "</table>\n",
       "</div>"
      ],
      "text/plain": [
       "   Rented_Bike_Count  Hour  Temperature°C  Humidity%  Wind_speed_m/s  \\\n",
       "0                254     0           -5.2         37             2.2   \n",
       "1                204     1           -5.5         38             0.8   \n",
       "2                173     2           -6.0         39             1.0   \n",
       "3                107     3           -6.2         40             0.9   \n",
       "4                 78     4           -6.0         36             2.3   \n",
       "\n",
       "   Visibility_10m  Dew_point_temperature°C  Solar_Radiation_MJ/m2  Rainfallmm  \\\n",
       "0            2000                    -17.6                    0.0         0.0   \n",
       "1            2000                    -17.6                    0.0         0.0   \n",
       "2            2000                    -17.7                    0.0         0.0   \n",
       "3            2000                    -17.6                    0.0         0.0   \n",
       "4            2000                    -18.6                    0.0         0.0   \n",
       "\n",
       "   Snowfall_cm  \n",
       "0          0.0  \n",
       "1          0.0  \n",
       "2          0.0  \n",
       "3          0.0  \n",
       "4          0.0  "
      ]
     },
     "execution_count": 66,
     "metadata": {},
     "output_type": "execute_result"
    }
   ],
   "source": [
    "df.columns = df.columns.str.replace(' ', '_').str.replace('(', '').str.replace(')', '')\n",
    "df = df.drop(columns=['Date', 'Functioning_Day', 'Holiday', 'Seasons'])\n",
    "df['Hour'] = df['Hour'].astype(int)\n",
    "\n",
    "y = df['Rented_Bike_Count']\n",
    "X = df.drop(columns=['Rented_Bike_Count'])\n",
    "\n",
    "full_df = pd.concat([y, X], axis=1)\n",
    "full_df.to_csv(\"bike_data.csv\", header=False, index=False)\n",
    "full_df.head()"
   ]
  },
  {
   "cell_type": "code",
   "execution_count": 67,
   "id": "128ace06-d1ea-44c6-b764-300c92ba7c23",
   "metadata": {},
   "outputs": [],
   "source": [
    "X_train, X_test, y_train, y_test = train_test_split(\n",
    "    X, y, test_size=0.2, random_state=42\n",
    ")\n",
    "\n",
    "X_train[\"count\"] = y_train\n",
    "X_test[\"count\"] = y_test\n",
    "\n",
    "X_train.to_csv(\"train.csv\", index=False, header=False)\n",
    "X_test.to_csv(\"test.csv\", index=False, header=False)"
   ]
  },
  {
   "cell_type": "code",
   "execution_count": 68,
   "id": "5d18c4a4-f592-48f8-b9bb-a298d25f8a72",
   "metadata": {},
   "outputs": [],
   "source": [
    "bucket = \"ccbda-research-sagemaker\"\n",
    "prefix = \"energy-bike-demand\"\n",
    "region = \"eu-north-1\""
   ]
  },
  {
   "cell_type": "code",
   "execution_count": 69,
   "id": "c8f86798-48f1-49a2-85af-abf486bc0663",
   "metadata": {},
   "outputs": [
    {
     "data": {
      "application/vnd.jupyter.widget-view+json": {
       "model_id": "97404ff2ca3949fa958d7ebbe6794411",
       "version_major": 2,
       "version_minor": 0
      },
      "text/plain": [
       "Output()"
      ]
     },
     "metadata": {},
     "output_type": "display_data"
    },
    {
     "data": {
      "text/html": [
       "<pre style=\"white-space:pre;overflow-x:auto;line-height:normal;font-family:Menlo,'DejaVu Sans Mono',consolas,'Courier New',monospace\"></pre>\n"
      ],
      "text/plain": []
     },
     "metadata": {},
     "output_type": "display_data"
    },
    {
     "data": {
      "text/html": [
       "<pre style=\"white-space:pre;overflow-x:auto;line-height:normal;font-family:Menlo,'DejaVu Sans Mono',consolas,'Courier New',monospace\"></pre>\n"
      ],
      "text/plain": []
     },
     "metadata": {},
     "output_type": "display_data"
    }
   ],
   "source": [
    "import boto3\n",
    "\n",
    "\n",
    "s3 = boto3.client(\"s3\")\n",
    "\n",
    "\n",
    "with Status(f\"[cyan]Uploading {prefix}/train to s3...\", spinner=\"dots\"):\n",
    "    s3.upload_file(\"train.csv\", bucket, f\"{prefix}/train/bike_data.csv\")\n",
    "\n",
    "with Status(f\"[cyan]Uploading {prefix}/test to s3...\", spinner=\"dots\"):\n",
    "    s3.upload_file(\"test.csv\", bucket, f\"{prefix}/test/bike_data.csv\")"
   ]
  },
  {
   "cell_type": "code",
   "execution_count": 70,
   "id": "1232f783-ad6f-4913-84b6-8ad41cc875da",
   "metadata": {},
   "outputs": [],
   "source": [
    "role = \"arn:aws:iam::940819259195:role/AmazonSageMaker-TrainingExecutionRole\""
   ]
  },
  {
   "cell_type": "code",
   "execution_count": 71,
   "id": "9af0a795-4a17-4552-9da3-6407725f2421",
   "metadata": {},
   "outputs": [],
   "source": [
    "session = sagemaker.Session()"
   ]
  },
  {
   "cell_type": "code",
   "execution_count": 72,
   "id": "9531d163-2468-4e83-b1ca-f93bb07c494a",
   "metadata": {},
   "outputs": [
    {
     "data": {
      "text/html": [
       "<pre style=\"white-space:pre;overflow-x:auto;line-height:normal;font-family:Menlo,'DejaVu Sans Mono',consolas,'Courier New',monospace\"><span style=\"color: #7fbfbf; text-decoration-color: #7fbfbf\">[05/07/25 17:26:22] </span><span style=\"color: #0069ff; text-decoration-color: #0069ff; font-weight: bold\">INFO    </span> Ignoring unnecessary instance type: <span style=\"color: #e100e1; text-decoration-color: #e100e1; font-style: italic\">None</span>.                            <a href=\"file:///home/ec2-user/anaconda3/envs/python3/lib/python3.10/site-packages/sagemaker/image_uris.py\" target=\"_blank\"><span style=\"color: #7f7f7f; text-decoration-color: #7f7f7f\">image_uris.py</span></a><span style=\"color: #7f7f7f; text-decoration-color: #7f7f7f\">:</span><a href=\"file:///home/ec2-user/anaconda3/envs/python3/lib/python3.10/site-packages/sagemaker/image_uris.py#530\" target=\"_blank\"><span style=\"color: #7f7f7f; text-decoration-color: #7f7f7f\">530</span></a>\n",
       "</pre>\n"
      ],
      "text/plain": [
       "\u001b[2;36m[05/07/25 17:26:22]\u001b[0m\u001b[2;36m \u001b[0m\u001b[1;38;2;0;105;255mINFO    \u001b[0m Ignoring unnecessary instance type: \u001b[3;38;2;225;0;225mNone\u001b[0m.                            \u001b]8;id=923558;file:///home/ec2-user/anaconda3/envs/python3/lib/python3.10/site-packages/sagemaker/image_uris.py\u001b\\\u001b[2mimage_uris.py\u001b[0m\u001b]8;;\u001b\\\u001b[2m:\u001b[0m\u001b]8;id=90493;file:///home/ec2-user/anaconda3/envs/python3/lib/python3.10/site-packages/sagemaker/image_uris.py#530\u001b\\\u001b[2m530\u001b[0m\u001b]8;;\u001b\\\n"
      ]
     },
     "metadata": {},
     "output_type": "display_data"
    }
   ],
   "source": [
    "xgboost_image_uri = image_uris.retrieve(\"xgboost\", region=region, version=\"1.5-1\")\n",
    "\n",
    "estimator = Estimator(\n",
    "    image_uri=xgboost_image_uri,\n",
    "    role=role,\n",
    "    instance_count=1,\n",
    "    instance_type=\"ml.m5.large\",\n",
    "    volume_size=5,\n",
    "    max_run=3600,\n",
    "    output_path=f\"s3://{bucket}/{prefix}/output\",\n",
    "    sagemaker_session=session,\n",
    ")\n",
    "\n",
    "# XGBoost Hyperparameters\n",
    "estimator.set_hyperparameters(\n",
    "    objective=\"reg:squarederror\",\n",
    "    num_round=100,\n",
    "    max_depth=5,\n",
    "    eta=0.2,\n",
    "    subsample=0.8,\n",
    "    colsample_bytree=0.8,\n",
    ")"
   ]
  },
  {
   "cell_type": "code",
   "execution_count": 73,
   "id": "462d5502-566b-49ac-98cd-43cf5dd581ce",
   "metadata": {},
   "outputs": [],
   "source": [
    "train_input = TrainingInput(\n",
    "    f\"s3://{bucket}/{prefix}/train/\", content_type=\"text/csv\"\n",
    ")"
   ]
  },
  {
   "cell_type": "code",
   "execution_count": 74,
   "id": "89f7d443-488a-4df2-bde8-d1a099065536",
   "metadata": {},
   "outputs": [
    {
     "data": {
      "text/html": [
       "<pre style=\"white-space:pre;overflow-x:auto;line-height:normal;font-family:Menlo,'DejaVu Sans Mono',consolas,'Courier New',monospace\"><span style=\"color: #7fbfbf; text-decoration-color: #7fbfbf\">[05/07/25 17:26:25] </span><span style=\"color: #0069ff; text-decoration-color: #0069ff; font-weight: bold\">INFO    </span> SageMaker Python SDK will collect telemetry to help us better  <a href=\"file:///home/ec2-user/anaconda3/envs/python3/lib/python3.10/site-packages/sagemaker/telemetry/telemetry_logging.py\" target=\"_blank\"><span style=\"color: #7f7f7f; text-decoration-color: #7f7f7f\">telemetry_logging.py</span></a><span style=\"color: #7f7f7f; text-decoration-color: #7f7f7f\">:</span><a href=\"file:///home/ec2-user/anaconda3/envs/python3/lib/python3.10/site-packages/sagemaker/telemetry/telemetry_logging.py#91\" target=\"_blank\"><span style=\"color: #7f7f7f; text-decoration-color: #7f7f7f\">91</span></a>\n",
       "<span style=\"color: #7fbfbf; text-decoration-color: #7fbfbf\">                    </span>         understand our user's needs, diagnose issues, and deliver      <span style=\"color: #7f7f7f; text-decoration-color: #7f7f7f\">                       </span>\n",
       "<span style=\"color: #7fbfbf; text-decoration-color: #7fbfbf\">                    </span>         additional features.                                           <span style=\"color: #7f7f7f; text-decoration-color: #7f7f7f\">                       </span>\n",
       "<span style=\"color: #7fbfbf; text-decoration-color: #7fbfbf\">                    </span>         To opt out of telemetry, please disable via TelemetryOptOut    <span style=\"color: #7f7f7f; text-decoration-color: #7f7f7f\">                       </span>\n",
       "<span style=\"color: #7fbfbf; text-decoration-color: #7fbfbf\">                    </span>         parameter in SDK defaults config. For more information, refer  <span style=\"color: #7f7f7f; text-decoration-color: #7f7f7f\">                       </span>\n",
       "<span style=\"color: #7fbfbf; text-decoration-color: #7fbfbf\">                    </span>         to                                                             <span style=\"color: #7f7f7f; text-decoration-color: #7f7f7f\">                       </span>\n",
       "<span style=\"color: #7fbfbf; text-decoration-color: #7fbfbf\">                    </span>         <span style=\"color: #0069ff; text-decoration-color: #0069ff; text-decoration: underline\">https://sagemaker.readthedocs.io/en/stable/overview.html#confi</span> <span style=\"color: #7f7f7f; text-decoration-color: #7f7f7f\">                       </span>\n",
       "<span style=\"color: #7fbfbf; text-decoration-color: #7fbfbf\">                    </span>         <span style=\"color: #0069ff; text-decoration-color: #0069ff; text-decoration: underline\">guring-and-using-defaults-with-the-sagemaker-python-sdk.</span>       <span style=\"color: #7f7f7f; text-decoration-color: #7f7f7f\">                       </span>\n",
       "</pre>\n"
      ],
      "text/plain": [
       "\u001b[2;36m[05/07/25 17:26:25]\u001b[0m\u001b[2;36m \u001b[0m\u001b[1;38;2;0;105;255mINFO    \u001b[0m SageMaker Python SDK will collect telemetry to help us better  \u001b]8;id=365946;file:///home/ec2-user/anaconda3/envs/python3/lib/python3.10/site-packages/sagemaker/telemetry/telemetry_logging.py\u001b\\\u001b[2mtelemetry_logging.py\u001b[0m\u001b]8;;\u001b\\\u001b[2m:\u001b[0m\u001b]8;id=188834;file:///home/ec2-user/anaconda3/envs/python3/lib/python3.10/site-packages/sagemaker/telemetry/telemetry_logging.py#91\u001b\\\u001b[2m91\u001b[0m\u001b]8;;\u001b\\\n",
       "\u001b[2;36m                    \u001b[0m         understand our user's needs, diagnose issues, and deliver      \u001b[2m                       \u001b[0m\n",
       "\u001b[2;36m                    \u001b[0m         additional features.                                           \u001b[2m                       \u001b[0m\n",
       "\u001b[2;36m                    \u001b[0m         To opt out of telemetry, please disable via TelemetryOptOut    \u001b[2m                       \u001b[0m\n",
       "\u001b[2;36m                    \u001b[0m         parameter in SDK defaults config. For more information, refer  \u001b[2m                       \u001b[0m\n",
       "\u001b[2;36m                    \u001b[0m         to                                                             \u001b[2m                       \u001b[0m\n",
       "\u001b[2;36m                    \u001b[0m         \u001b[4;38;2;0;105;255mhttps://sagemaker.readthedocs.io/en/stable/overview.html#confi\u001b[0m \u001b[2m                       \u001b[0m\n",
       "\u001b[2;36m                    \u001b[0m         \u001b[4;38;2;0;105;255mguring-and-using-defaults-with-the-sagemaker-python-sdk.\u001b[0m       \u001b[2m                       \u001b[0m\n"
      ]
     },
     "metadata": {},
     "output_type": "display_data"
    },
    {
     "data": {
      "text/html": [
       "<pre style=\"white-space:pre;overflow-x:auto;line-height:normal;font-family:Menlo,'DejaVu Sans Mono',consolas,'Courier New',monospace\"><span style=\"color: #7fbfbf; text-decoration-color: #7fbfbf\">                    </span><span style=\"color: #0069ff; text-decoration-color: #0069ff; font-weight: bold\">INFO    </span> Creating training-job with name:                                       <a href=\"file:///home/ec2-user/anaconda3/envs/python3/lib/python3.10/site-packages/sagemaker/session.py\" target=\"_blank\"><span style=\"color: #7f7f7f; text-decoration-color: #7f7f7f\">session.py</span></a><span style=\"color: #7f7f7f; text-decoration-color: #7f7f7f\">:</span><a href=\"file:///home/ec2-user/anaconda3/envs/python3/lib/python3.10/site-packages/sagemaker/session.py#1042\" target=\"_blank\"><span style=\"color: #7f7f7f; text-decoration-color: #7f7f7f\">1042</span></a>\n",
       "<span style=\"color: #7fbfbf; text-decoration-color: #7fbfbf\">                    </span>         sagemaker-xgboost-<span style=\"color: #008080; text-decoration-color: #008080; font-weight: bold\">2025</span>-05-07-17-26-25-385                              <span style=\"color: #7f7f7f; text-decoration-color: #7f7f7f\">               </span>\n",
       "</pre>\n"
      ],
      "text/plain": [
       "\u001b[2;36m                   \u001b[0m\u001b[2;36m \u001b[0m\u001b[1;38;2;0;105;255mINFO    \u001b[0m Creating training-job with name:                                       \u001b]8;id=56540;file:///home/ec2-user/anaconda3/envs/python3/lib/python3.10/site-packages/sagemaker/session.py\u001b\\\u001b[2msession.py\u001b[0m\u001b]8;;\u001b\\\u001b[2m:\u001b[0m\u001b]8;id=978443;file:///home/ec2-user/anaconda3/envs/python3/lib/python3.10/site-packages/sagemaker/session.py#1042\u001b\\\u001b[2m1042\u001b[0m\u001b]8;;\u001b\\\n",
       "\u001b[2;36m                    \u001b[0m         sagemaker-xgboost-\u001b[1;36m2025\u001b[0m-05-07-17-26-25-385                              \u001b[2m               \u001b[0m\n"
      ]
     },
     "metadata": {},
     "output_type": "display_data"
    },
    {
     "name": "stdout",
     "output_type": "stream",
     "text": [
      "2025-05-07 17:26:27 Starting - Starting the training job...\n",
      "2025-05-07 17:26:59 Downloading - Downloading input data......\n",
      "2025-05-07 17:27:40 Downloading - Downloading the training image......\n",
      "2025-05-07 17:28:51 Training - Training image download completed. Training in progress.\n",
      "2025-05-07 17:28:51 Uploading - Uploading generated training model\u001b[34m/miniconda3/lib/python3.8/site-packages/xgboost/compat.py:36: FutureWarning: pandas.Int64Index is deprecated and will be removed from pandas in a future version. Use pandas.Index with the appropriate dtype instead.\n",
      "  from pandas import MultiIndex, Int64Index\u001b[0m\n",
      "\u001b[34m[2025-05-07 17:28:45.700 ip-10-0-231-91.eu-north-1.compute.internal:7 INFO utils.py:28] RULE_JOB_STOP_SIGNAL_FILENAME: None\u001b[0m\n",
      "\u001b[34m[2025-05-07 17:28:45.730 ip-10-0-231-91.eu-north-1.compute.internal:7 INFO profiler_config_parser.py:111] User has disabled profiler.\u001b[0m\n",
      "\u001b[34m[2025-05-07:17:28:46:INFO] Imported framework sagemaker_xgboost_container.training\u001b[0m\n",
      "\u001b[34m[2025-05-07:17:28:46:INFO] Failed to parse hyperparameter objective value reg:squarederror to Json.\u001b[0m\n",
      "\u001b[34mReturning the value itself\u001b[0m\n",
      "\u001b[34m[2025-05-07:17:28:46:INFO] No GPUs detected (normal if no gpus installed)\u001b[0m\n",
      "\u001b[34m[2025-05-07:17:28:46:INFO] Running XGBoost Sagemaker in algorithm mode\u001b[0m\n",
      "\u001b[34m[2025-05-07:17:28:46:INFO] Determined 0 GPU(s) available on the instance.\u001b[0m\n",
      "\u001b[34m[2025-05-07:17:28:46:INFO] Determined delimiter of CSV input is ','\u001b[0m\n",
      "\u001b[34m[2025-05-07:17:28:46:INFO] files path: /opt/ml/input/data/train\u001b[0m\n",
      "\u001b[34m[2025-05-07:17:28:46:INFO] Determined delimiter of CSV input is ','\u001b[0m\n",
      "\u001b[34m[2025-05-07:17:28:46:INFO] Single node training.\u001b[0m\n",
      "\u001b[34m[2025-05-07:17:28:46:INFO] Train matrix has 7008 rows and 9 columns\u001b[0m\n",
      "\u001b[34m[2025-05-07 17:28:46.120 ip-10-0-231-91.eu-north-1.compute.internal:7 INFO json_config.py:92] Creating hook from json_config at /opt/ml/input/config/debughookconfig.json.\u001b[0m\n",
      "\u001b[34m[2025-05-07 17:28:46.121 ip-10-0-231-91.eu-north-1.compute.internal:7 INFO hook.py:206] tensorboard_dir has not been set for the hook. SMDebug will not be exporting tensorboard summaries.\u001b[0m\n",
      "\u001b[34m[2025-05-07 17:28:46.122 ip-10-0-231-91.eu-north-1.compute.internal:7 INFO hook.py:259] Saving to /opt/ml/output/tensors\u001b[0m\n",
      "\u001b[34m[2025-05-07 17:28:46.122 ip-10-0-231-91.eu-north-1.compute.internal:7 INFO state_store.py:77] The checkpoint config file /opt/ml/input/config/checkpointconfig.json does not exist.\u001b[0m\n",
      "\u001b[34m[2025-05-07:17:28:46:INFO] Debug hook created from config\u001b[0m\n",
      "\u001b[34m[0]#011train-rmse:10.87604\u001b[0m\n",
      "\u001b[34m[2025-05-07 17:28:46.147 ip-10-0-231-91.eu-north-1.compute.internal:7 INFO hook.py:427] Monitoring the collections: metrics\u001b[0m\n",
      "\u001b[34m[2025-05-07 17:28:46.151 ip-10-0-231-91.eu-north-1.compute.internal:7 INFO hook.py:491] Hook is writing from the hook with pid: 7\u001b[0m\n",
      "\u001b[34m[1]#011train-rmse:9.24233\u001b[0m\n",
      "\u001b[34m[2]#011train-rmse:8.02074\u001b[0m\n",
      "\u001b[34m[3]#011train-rmse:7.10401\u001b[0m\n",
      "\u001b[34m[4]#011train-rmse:6.43635\u001b[0m\n",
      "\u001b[34m[5]#011train-rmse:5.99340\u001b[0m\n",
      "\u001b[34m[6]#011train-rmse:5.68993\u001b[0m\n",
      "\u001b[34m[7]#011train-rmse:5.41301\u001b[0m\n",
      "\u001b[34m[8]#011train-rmse:5.24939\u001b[0m\n",
      "\u001b[34m[9]#011train-rmse:5.13926\u001b[0m\n",
      "\u001b[34m[10]#011train-rmse:4.96520\u001b[0m\n",
      "\u001b[34m[11]#011train-rmse:4.86181\u001b[0m\n",
      "\u001b[34m[12]#011train-rmse:4.76957\u001b[0m\n",
      "\u001b[34m[13]#011train-rmse:4.70521\u001b[0m\n",
      "\u001b[34m[14]#011train-rmse:4.64980\u001b[0m\n",
      "\u001b[34m[15]#011train-rmse:4.59730\u001b[0m\n",
      "\u001b[34m[16]#011train-rmse:4.56834\u001b[0m\n",
      "\u001b[34m[17]#011train-rmse:4.55002\u001b[0m\n",
      "\u001b[34m[18]#011train-rmse:4.51355\u001b[0m\n",
      "\u001b[34m[19]#011train-rmse:4.49104\u001b[0m\n",
      "\u001b[34m[20]#011train-rmse:4.47528\u001b[0m\n",
      "\u001b[34m[21]#011train-rmse:4.44172\u001b[0m\n",
      "\u001b[34m[22]#011train-rmse:4.43084\u001b[0m\n",
      "\u001b[34m[23]#011train-rmse:4.41068\u001b[0m\n",
      "\u001b[34m[24]#011train-rmse:4.40020\u001b[0m\n",
      "\u001b[34m[25]#011train-rmse:4.36130\u001b[0m\n",
      "\u001b[34m[26]#011train-rmse:4.33642\u001b[0m\n",
      "\u001b[34m[27]#011train-rmse:4.32568\u001b[0m\n",
      "\u001b[34m[28]#011train-rmse:4.31809\u001b[0m\n",
      "\u001b[34m[29]#011train-rmse:4.30410\u001b[0m\n",
      "\u001b[34m[30]#011train-rmse:4.28486\u001b[0m\n",
      "\u001b[34m[31]#011train-rmse:4.27079\u001b[0m\n",
      "\u001b[34m[32]#011train-rmse:4.25271\u001b[0m\n",
      "\u001b[34m[33]#011train-rmse:4.24183\u001b[0m\n",
      "\u001b[34m[34]#011train-rmse:4.21687\u001b[0m\n",
      "\u001b[34m[35]#011train-rmse:4.19139\u001b[0m\n",
      "\u001b[34m[36]#011train-rmse:4.17441\u001b[0m\n",
      "\u001b[34m[37]#011train-rmse:4.14785\u001b[0m\n",
      "\u001b[34m[38]#011train-rmse:4.13870\u001b[0m\n",
      "\u001b[34m[39]#011train-rmse:4.12771\u001b[0m\n",
      "\u001b[34m[40]#011train-rmse:4.10593\u001b[0m\n",
      "\u001b[34m[41]#011train-rmse:4.10011\u001b[0m\n",
      "\u001b[34m[42]#011train-rmse:4.09404\u001b[0m\n",
      "\u001b[34m[43]#011train-rmse:4.08121\u001b[0m\n",
      "\u001b[34m[44]#011train-rmse:4.07113\u001b[0m\n",
      "\u001b[34m[45]#011train-rmse:4.05537\u001b[0m\n",
      "\u001b[34m[46]#011train-rmse:4.04347\u001b[0m\n",
      "\u001b[34m[47]#011train-rmse:4.02515\u001b[0m\n",
      "\u001b[34m[48]#011train-rmse:4.00562\u001b[0m\n",
      "\u001b[34m[49]#011train-rmse:4.00030\u001b[0m\n",
      "\u001b[34m[50]#011train-rmse:3.98876\u001b[0m\n",
      "\u001b[34m[51]#011train-rmse:3.97738\u001b[0m\n",
      "\u001b[34m[52]#011train-rmse:3.96495\u001b[0m\n",
      "\u001b[34m[53]#011train-rmse:3.94103\u001b[0m\n",
      "\u001b[34m[54]#011train-rmse:3.93423\u001b[0m\n",
      "\u001b[34m[55]#011train-rmse:3.91855\u001b[0m\n",
      "\u001b[34m[56]#011train-rmse:3.90905\u001b[0m\n",
      "\u001b[34m[57]#011train-rmse:3.89173\u001b[0m\n",
      "\u001b[34m[58]#011train-rmse:3.88362\u001b[0m\n",
      "\u001b[34m[59]#011train-rmse:3.87767\u001b[0m\n",
      "\u001b[34m[60]#011train-rmse:3.86842\u001b[0m\n",
      "\u001b[34m[61]#011train-rmse:3.85517\u001b[0m\n",
      "\u001b[34m[62]#011train-rmse:3.84986\u001b[0m\n",
      "\u001b[34m[63]#011train-rmse:3.84589\u001b[0m\n",
      "\u001b[34m[64]#011train-rmse:3.82436\u001b[0m\n",
      "\u001b[34m[65]#011train-rmse:3.81780\u001b[0m\n",
      "\u001b[34m[66]#011train-rmse:3.80671\u001b[0m\n",
      "\u001b[34m[67]#011train-rmse:3.78607\u001b[0m\n",
      "\u001b[34m[68]#011train-rmse:3.77325\u001b[0m\n",
      "\u001b[34m[69]#011train-rmse:3.76483\u001b[0m\n",
      "\u001b[34m[70]#011train-rmse:3.75495\u001b[0m\n",
      "\u001b[34m[71]#011train-rmse:3.74473\u001b[0m\n",
      "\u001b[34m[72]#011train-rmse:3.73879\u001b[0m\n",
      "\u001b[34m[73]#011train-rmse:3.73516\u001b[0m\n",
      "\u001b[34m[74]#011train-rmse:3.72516\u001b[0m\n",
      "\u001b[34m[75]#011train-rmse:3.72023\u001b[0m\n",
      "\u001b[34m[76]#011train-rmse:3.70752\u001b[0m\n",
      "\u001b[34m[77]#011train-rmse:3.70096\u001b[0m\n",
      "\u001b[34m[78]#011train-rmse:3.68876\u001b[0m\n",
      "\u001b[34m[79]#011train-rmse:3.67560\u001b[0m\n",
      "\u001b[34m[80]#011train-rmse:3.66384\u001b[0m\n",
      "\u001b[34m[81]#011train-rmse:3.65032\u001b[0m\n",
      "\u001b[34m[82]#011train-rmse:3.64671\u001b[0m\n",
      "\u001b[34m[83]#011train-rmse:3.63398\u001b[0m\n",
      "\u001b[34m[84]#011train-rmse:3.62576\u001b[0m\n",
      "\u001b[34m[85]#011train-rmse:3.61763\u001b[0m\n",
      "\u001b[34m[86]#011train-rmse:3.60547\u001b[0m\n",
      "\u001b[34m[87]#011train-rmse:3.59865\u001b[0m\n",
      "\u001b[34m[88]#011train-rmse:3.58911\u001b[0m\n",
      "\u001b[34m[89]#011train-rmse:3.58062\u001b[0m\n",
      "\u001b[34m[90]#011train-rmse:3.57226\u001b[0m\n",
      "\u001b[34m[91]#011train-rmse:3.56405\u001b[0m\n",
      "\u001b[34m[92]#011train-rmse:3.55467\u001b[0m\n",
      "\u001b[34m[93]#011train-rmse:3.54608\u001b[0m\n",
      "\u001b[34m[94]#011train-rmse:3.53647\u001b[0m\n",
      "\u001b[34m[95]#011train-rmse:3.52556\u001b[0m\n",
      "\u001b[34m[96]#011train-rmse:3.51292\u001b[0m\n",
      "\u001b[34m[97]#011train-rmse:3.50897\u001b[0m\n",
      "\u001b[34m[98]#011train-rmse:3.50189\u001b[0m\n",
      "\u001b[34m[99]#011train-rmse:3.48888\u001b[0m\n",
      "\n",
      "2025-05-07 17:29:04 Completed - Training job completed\n",
      "Training seconds: 125\n",
      "Billable seconds: 125\n"
     ]
    },
    {
     "data": {
      "text/html": [
       "<pre style=\"white-space:pre;overflow-x:auto;line-height:normal;font-family:Menlo,'DejaVu Sans Mono',consolas,'Courier New',monospace\"><span style=\"color: #008000; text-decoration-color: #008000; font-weight: bold\">Training job submitted successfully! Check the SageMaker console for live logs.</span>\n",
       "</pre>\n"
      ],
      "text/plain": [
       "\u001b[1;32mTraining job submitted successfully! Check the SageMaker console for live logs.\u001b[0m\n"
      ]
     },
     "metadata": {},
     "output_type": "display_data"
    }
   ],
   "source": [
    "estimator.fit({\"train\": train_input})\n",
    "\n",
    "console.print(\"[bold green]Training job submitted successfully! Check the SageMaker console for live logs.[/bold green]\")"
   ]
  },
  {
   "cell_type": "code",
   "execution_count": 75,
   "id": "bf7faf3a-7640-4b04-9504-70f25e6b2cb6",
   "metadata": {
    "scrolled": true
   },
   "outputs": [
    {
     "data": {
      "text/html": [
       "<pre style=\"white-space:pre;overflow-x:auto;line-height:normal;font-family:Menlo,'DejaVu Sans Mono',consolas,'Courier New',monospace\"><span style=\"color: #7fbfbf; text-decoration-color: #7fbfbf\">[05/07/25 17:31:35] </span><span style=\"color: #0069ff; text-decoration-color: #0069ff; font-weight: bold\">INFO    </span> Creating model with name: sagemaker-xgboost-<span style=\"color: #008080; text-decoration-color: #008080; font-weight: bold\">2025</span>-05-07-17-31-35-496    <a href=\"file:///home/ec2-user/anaconda3/envs/python3/lib/python3.10/site-packages/sagemaker/session.py\" target=\"_blank\"><span style=\"color: #7f7f7f; text-decoration-color: #7f7f7f\">session.py</span></a><span style=\"color: #7f7f7f; text-decoration-color: #7f7f7f\">:</span><a href=\"file:///home/ec2-user/anaconda3/envs/python3/lib/python3.10/site-packages/sagemaker/session.py#4094\" target=\"_blank\"><span style=\"color: #7f7f7f; text-decoration-color: #7f7f7f\">4094</span></a>\n",
       "</pre>\n"
      ],
      "text/plain": [
       "\u001b[2;36m[05/07/25 17:31:35]\u001b[0m\u001b[2;36m \u001b[0m\u001b[1;38;2;0;105;255mINFO    \u001b[0m Creating model with name: sagemaker-xgboost-\u001b[1;36m2025\u001b[0m-05-07-17-31-35-496    \u001b]8;id=930678;file:///home/ec2-user/anaconda3/envs/python3/lib/python3.10/site-packages/sagemaker/session.py\u001b\\\u001b[2msession.py\u001b[0m\u001b]8;;\u001b\\\u001b[2m:\u001b[0m\u001b]8;id=289062;file:///home/ec2-user/anaconda3/envs/python3/lib/python3.10/site-packages/sagemaker/session.py#4094\u001b\\\u001b[2m4094\u001b[0m\u001b]8;;\u001b\\\n"
      ]
     },
     "metadata": {},
     "output_type": "display_data"
    },
    {
     "data": {
      "text/html": [
       "<pre style=\"white-space:pre;overflow-x:auto;line-height:normal;font-family:Menlo,'DejaVu Sans Mono',consolas,'Courier New',monospace\"><span style=\"color: #7fbfbf; text-decoration-color: #7fbfbf\">[05/07/25 17:31:36] </span><span style=\"color: #0069ff; text-decoration-color: #0069ff; font-weight: bold\">INFO    </span> Creating endpoint-config with name                                     <a href=\"file:///home/ec2-user/anaconda3/envs/python3/lib/python3.10/site-packages/sagemaker/session.py\" target=\"_blank\"><span style=\"color: #7f7f7f; text-decoration-color: #7f7f7f\">session.py</span></a><span style=\"color: #7f7f7f; text-decoration-color: #7f7f7f\">:</span><a href=\"file:///home/ec2-user/anaconda3/envs/python3/lib/python3.10/site-packages/sagemaker/session.py#6019\" target=\"_blank\"><span style=\"color: #7f7f7f; text-decoration-color: #7f7f7f\">6019</span></a>\n",
       "<span style=\"color: #7fbfbf; text-decoration-color: #7fbfbf\">                    </span>         sagemaker-xgboost-<span style=\"color: #008080; text-decoration-color: #008080; font-weight: bold\">2025</span>-05-07-17-31-35-496                              <span style=\"color: #7f7f7f; text-decoration-color: #7f7f7f\">               </span>\n",
       "</pre>\n"
      ],
      "text/plain": [
       "\u001b[2;36m[05/07/25 17:31:36]\u001b[0m\u001b[2;36m \u001b[0m\u001b[1;38;2;0;105;255mINFO    \u001b[0m Creating endpoint-config with name                                     \u001b]8;id=360273;file:///home/ec2-user/anaconda3/envs/python3/lib/python3.10/site-packages/sagemaker/session.py\u001b\\\u001b[2msession.py\u001b[0m\u001b]8;;\u001b\\\u001b[2m:\u001b[0m\u001b]8;id=445853;file:///home/ec2-user/anaconda3/envs/python3/lib/python3.10/site-packages/sagemaker/session.py#6019\u001b\\\u001b[2m6019\u001b[0m\u001b]8;;\u001b\\\n",
       "\u001b[2;36m                    \u001b[0m         sagemaker-xgboost-\u001b[1;36m2025\u001b[0m-05-07-17-31-35-496                              \u001b[2m               \u001b[0m\n"
      ]
     },
     "metadata": {},
     "output_type": "display_data"
    },
    {
     "data": {
      "text/html": [
       "<pre style=\"white-space:pre;overflow-x:auto;line-height:normal;font-family:Menlo,'DejaVu Sans Mono',consolas,'Courier New',monospace\"><span style=\"color: #7fbfbf; text-decoration-color: #7fbfbf\">                    </span><span style=\"color: #0069ff; text-decoration-color: #0069ff; font-weight: bold\">INFO    </span> Creating endpoint with name sagemaker-xgboost-<span style=\"color: #008080; text-decoration-color: #008080; font-weight: bold\">2025</span>-05-07-17-31-35-496  <a href=\"file:///home/ec2-user/anaconda3/envs/python3/lib/python3.10/site-packages/sagemaker/session.py\" target=\"_blank\"><span style=\"color: #7f7f7f; text-decoration-color: #7f7f7f\">session.py</span></a><span style=\"color: #7f7f7f; text-decoration-color: #7f7f7f\">:</span><a href=\"file:///home/ec2-user/anaconda3/envs/python3/lib/python3.10/site-packages/sagemaker/session.py#4841\" target=\"_blank\"><span style=\"color: #7f7f7f; text-decoration-color: #7f7f7f\">4841</span></a>\n",
       "</pre>\n"
      ],
      "text/plain": [
       "\u001b[2;36m                   \u001b[0m\u001b[2;36m \u001b[0m\u001b[1;38;2;0;105;255mINFO    \u001b[0m Creating endpoint with name sagemaker-xgboost-\u001b[1;36m2025\u001b[0m-05-07-17-31-35-496  \u001b]8;id=884901;file:///home/ec2-user/anaconda3/envs/python3/lib/python3.10/site-packages/sagemaker/session.py\u001b\\\u001b[2msession.py\u001b[0m\u001b]8;;\u001b\\\u001b[2m:\u001b[0m\u001b]8;id=216953;file:///home/ec2-user/anaconda3/envs/python3/lib/python3.10/site-packages/sagemaker/session.py#4841\u001b\\\u001b[2m4841\u001b[0m\u001b]8;;\u001b\\\n"
      ]
     },
     "metadata": {},
     "output_type": "display_data"
    },
    {
     "name": "stdout",
     "output_type": "stream",
     "text": [
      "--------!"
     ]
    },
    {
     "data": {
      "text/html": [
       "<pre style=\"white-space:pre;overflow-x:auto;line-height:normal;font-family:Menlo,'DejaVu Sans Mono',consolas,'Courier New',monospace\"><span style=\"color: #008000; text-decoration-color: #008000; font-weight: bold\">Model deployed successfully!</span> Endpoint name: <span style=\"font-weight: bold\">sagemaker-xgboost-</span><span style=\"color: #008080; text-decoration-color: #008080; font-weight: bold\">2025</span><span style=\"font-weight: bold\">-</span><span style=\"color: #00ff00; text-decoration-color: #00ff00; font-weight: bold\">05-07-17-31-35-49</span><span style=\"font-weight: bold\">6</span>\n",
       "</pre>\n"
      ],
      "text/plain": [
       "\u001b[1;32mModel deployed successfully!\u001b[0m Endpoint name: \u001b[1msagemaker-xgboost-\u001b[0m\u001b[1;36m2025\u001b[0m\u001b[1m-\u001b[0m\u001b[1;92m05-07-17-31-35-49\u001b[0m\u001b[1m6\u001b[0m\n"
      ]
     },
     "metadata": {},
     "output_type": "display_data"
    }
   ],
   "source": [
    "predictor = estimator.deploy(initial_instance_count=1, instance_type=\"ml.m5.large\")\n",
    "\n",
    "console.print(f\"[bold green]Model deployed successfully![/bold green] Endpoint name: [bold]{predictor.endpoint_name}[/bold]\")"
   ]
  },
  {
   "cell_type": "code",
   "execution_count": 84,
   "id": "bfa2f2f2-0d51-407d-8740-330d64cf9f9a",
   "metadata": {},
   "outputs": [],
   "source": [
    "import json\n",
    "from sklearn.metrics import mean_squared_error, mean_absolute_error, r2_score\n",
    "from rich.progress import track"
   ]
  },
  {
   "cell_type": "code",
   "execution_count": 85,
   "id": "84f1f434-95c9-4703-8c6a-1217e47c79b9",
   "metadata": {},
   "outputs": [],
   "source": [
    "df = pd.read_csv(\"test.csv\", header=None)\n",
    "X = df.iloc[:, 1:]  # Features\n",
    "y_true = df.iloc[:, 0]  # True labels"
   ]
  },
  {
   "cell_type": "code",
   "execution_count": 86,
   "id": "6ea7d54c-95d0-483f-96d9-c86a0d6bddc3",
   "metadata": {},
   "outputs": [],
   "source": [
    "runtime = boto3.client(\"sagemaker-runtime\", region_name=region)"
   ]
  },
  {
   "cell_type": "code",
   "execution_count": 90,
   "id": "1c9424b9-94dd-4354-8c0f-2f0fbcd9411c",
   "metadata": {},
   "outputs": [
    {
     "data": {
      "application/vnd.jupyter.widget-view+json": {
       "model_id": "439d40ca40424069b77c4e97b7b84ccb",
       "version_major": 2,
       "version_minor": 0
      },
      "text/plain": [
       "Output()"
      ]
     },
     "metadata": {},
     "output_type": "display_data"
    },
    {
     "data": {
      "text/html": [
       "<pre style=\"white-space:pre;overflow-x:auto;line-height:normal;font-family:Menlo,'DejaVu Sans Mono',consolas,'Courier New',monospace\"></pre>\n"
      ],
      "text/plain": []
     },
     "metadata": {},
     "output_type": "display_data"
    }
   ],
   "source": [
    "y_pred = []\n",
    "for i in track(range(len(X)), description=\"Predicting...\"):\n",
    "    payload = \",\".join(map(str, X.iloc[i].values))\n",
    "\n",
    "    try:\n",
    "        response = runtime.invoke_endpoint(\n",
    "            EndpointName=predictor.endpoint_name,\n",
    "            ContentType=\"text/csv\",\n",
    "            Body=payload\n",
    "        )\n",
    "        result = response[\"Body\"].read().decode(\"utf-8\").strip()\n",
    "        prediction = round(float(result))\n",
    "        y_pred.append(prediction)\n",
    "\n",
    "    except Exception as e:\n",
    "        console.log(f\"[red]✗ Error at row {i}:[/red] {e}\")\n",
    "        y_pred.append(None)  # Optional: handle failed predictions gracefully"
   ]
  },
  {
   "cell_type": "code",
   "execution_count": 91,
   "id": "40a37408-f9cb-433d-81cf-f5cb8d2aebef",
   "metadata": {},
   "outputs": [
    {
     "data": {
      "text/html": [
       "<pre style=\"white-space:pre;overflow-x:auto;line-height:normal;font-family:Menlo,'DejaVu Sans Mono',consolas,'Courier New',monospace\"><span style=\"color: #008000; text-decoration-color: #008000\">MSE: </span><span style=\"color: #008000; text-decoration-color: #008000; font-weight: bold\">24.06</span>\n",
       "</pre>\n"
      ],
      "text/plain": [
       "\u001b[32mMSE: \u001b[0m\u001b[1;32m24.06\u001b[0m\n"
      ]
     },
     "metadata": {},
     "output_type": "display_data"
    },
    {
     "data": {
      "text/html": [
       "<pre style=\"white-space:pre;overflow-x:auto;line-height:normal;font-family:Menlo,'DejaVu Sans Mono',consolas,'Courier New',monospace\"><span style=\"color: #008000; text-decoration-color: #008000\">MAE: </span><span style=\"color: #008000; text-decoration-color: #008000; font-weight: bold\">3.30</span>\n",
       "</pre>\n"
      ],
      "text/plain": [
       "\u001b[32mMAE: \u001b[0m\u001b[1;32m3.30\u001b[0m\n"
      ]
     },
     "metadata": {},
     "output_type": "display_data"
    },
    {
     "data": {
      "text/html": [
       "<pre style=\"white-space:pre;overflow-x:auto;line-height:normal;font-family:Menlo,'DejaVu Sans Mono',consolas,'Courier New',monospace\"><span style=\"color: #008000; text-decoration-color: #008000\"> R²: </span><span style=\"color: #008000; text-decoration-color: #008000; font-weight: bold\">0.51</span>\n",
       "</pre>\n"
      ],
      "text/plain": [
       "\u001b[32m R²: \u001b[0m\u001b[1;32m0.51\u001b[0m\n"
      ]
     },
     "metadata": {},
     "output_type": "display_data"
    }
   ],
   "source": [
    "mse = mean_squared_error(y_true, y_pred)\n",
    "mae = mean_absolute_error(y_true, y_pred)\n",
    "r2 = r2_score(y_true, y_pred)\n",
    "\n",
    "console.print(f\"[green]MSE: {mse:.2f}[/green]\")\n",
    "console.print(f\"[green]MAE: {mae:.2f}[/green]\")\n",
    "console.print(f\"[green] R²: {r2:.2f}[/green]\")"
   ]
  }
 ],
 "metadata": {
  "kernelspec": {
   "display_name": "conda_python3",
   "language": "python",
   "name": "conda_python3"
  },
  "language_info": {
   "codemirror_mode": {
    "name": "ipython",
    "version": 3
   },
   "file_extension": ".py",
   "mimetype": "text/x-python",
   "name": "python",
   "nbconvert_exporter": "python",
   "pygments_lexer": "ipython3",
   "version": "3.10.17"
  }
 },
 "nbformat": 4,
 "nbformat_minor": 5
}
